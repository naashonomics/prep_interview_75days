{
 "cells": [
  {
   "cell_type": "code",
   "execution_count": 8,
   "metadata": {},
   "outputs": [],
   "source": [
    "\n",
    "class Solution:\n",
    "    def permute(self,nums):\n",
    "        res=[]\n",
    "        \n",
    "        def backtrack(temp, elements):\n",
    "            #gather res\n",
    "            if len(elements)==0:\n",
    "                res.append(temp[:]) #still remember to use temp[:]\n",
    "            for e in list(elements): #this is the only difference\n",
    "                temp.append(e)\n",
    "                #backtrack\n",
    "                next_elements=elements[:]\n",
    "                next_elements.remove(e)\n",
    "                backtrack(temp, next_elements)\n",
    "                temp.pop()\n",
    "        backtrack([],nums)\n",
    "        return res"
   ]
  },
  {
   "cell_type": "code",
   "execution_count": 9,
   "metadata": {},
   "outputs": [
    {
     "name": "stdout",
     "output_type": "stream",
     "text": [
      "[[1, 2, 3], [1, 3, 2], [2, 1, 3], [2, 3, 1], [3, 1, 2], [3, 2, 1]]\n"
     ]
    }
   ],
   "source": [
    "print(Solution().permute([1, 2, 3]))"
   ]
  },
  {
   "cell_type": "code",
   "execution_count": null,
   "metadata": {},
   "outputs": [],
   "source": []
  }
 ],
 "metadata": {
  "kernelspec": {
   "display_name": "Anaconda 3",
   "language": "python",
   "name": "python3"
  },
  "language_info": {
   "codemirror_mode": {
    "name": "ipython",
    "version": 3
   },
   "file_extension": ".py",
   "mimetype": "text/x-python",
   "name": "python",
   "nbconvert_exporter": "python",
   "pygments_lexer": "ipython3",
   "version": "3.7.3"
  }
 },
 "nbformat": 4,
 "nbformat_minor": 2
}
