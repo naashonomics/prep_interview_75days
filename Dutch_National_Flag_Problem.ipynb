{
 "cells": [
  {
   "cell_type": "code",
   "execution_count": null,
   "metadata": {},
   "outputs": [],
   "source": [
    "\"\"\"\n",
    "Given an array with n objects colored red, white or blue, sort them in-place so that objects of the same color are adjacent, with the colors in the order red, white and blue.\n",
    "\n",
    "Here, we will use the integers 0, 1, and 2 to represent the color red, white, and blue respectively.\n",
    "\n",
    "Note: You are not suppose to use the library's sort function for this problem.\n",
    "\n",
    "Example:\n",
    "\n",
    "Input: [2,0,2,1,1,0]\n",
    "Output: [0,0,1,1,2,2]\n",
    "Follow up:\n",
    "\n",
    "A rather straight forward solution is a two-pass algorithm using counting sort.\n",
    "First, iterate the array counting number of 0's, 1's, and 2's, then overwrite array with total number of 0's, then 1's and followed by 2's.\n",
    "Could you come up with a one-pass algorithm using only constant space?\n",
    "\n",
    "\"\"\""
   ]
  },
  {
   "cell_type": "code",
   "execution_count": null,
   "metadata": {},
   "outputs": [],
   "source": [
    "\"\"\"\n",
    "The problem is known as Dutch National Flag Problem and first was proposed by Edsger W. Dijkstra. \n",
    "The idea is to attribute a color to each number and then to arrange them following the order of colors on the Dutch \n",
    "flag.\n",
    "\n",
    "Algorithm\n",
    "\n",
    "Initialise the rightmost boundary of zeros : p0 = 0. During the algorithm execution nums[idx < p0] = 0.\n",
    "\n",
    "Initialise the leftmost boundary of twos : p2 = n - 1. During the algorithm execution nums[idx > p2] = 2.\n",
    "\n",
    "Initialise the index of current element to consider : curr = 0.\n",
    "\n",
    "While curr <= p2 :\n",
    "\n",
    "If nums[curr] = 0 : swap curth and p0th elements and move both pointers to the right.\n",
    "\n",
    "If nums[curr] = 2 : swap curth and p2th elements. Move pointer p2 to the left.\n",
    "\n",
    "If nums[curr] = 1 : move pointer curr to the right.\n",
    "\n",
    "\"\"\""
   ]
  },
  {
   "cell_type": "code",
   "execution_count": 8,
   "metadata": {},
   "outputs": [],
   "source": [
    "def sortColors(nums):\n",
    "        \"\"\"\n",
    "        Dutch National Flag problem solution.\n",
    "        \"\"\"\n",
    "        # for all idx < p0 : nums[idx < p0] = 0\n",
    "        # curr is an index of element under consideration\n",
    "        p0 = curr = 0\n",
    "        # for all idx > p2 : nums[idx > p2] = 2\n",
    "        p2 = len(nums) - 1\n",
    "\n",
    "        while curr <= p2:\n",
    "            if nums[curr] == 0:\n",
    "                nums[p0], nums[curr] = nums[curr], nums[p0]\n",
    "                p0 += 1\n",
    "                curr += 1\n",
    "            elif nums[curr] == 2:\n",
    "                nums[curr], nums[p2] = nums[p2], nums[curr]\n",
    "                p2 -= 1\n",
    "            else:\n",
    "                curr += 1\n",
    "        print(nums)"
   ]
  },
  {
   "cell_type": "code",
   "execution_count": 9,
   "metadata": {},
   "outputs": [
    {
     "name": "stdout",
     "output_type": "stream",
     "text": [
      "[0, 0, 0, 1, 1, 2, 2]\n"
     ]
    }
   ],
   "source": [
    "sortColors([0, 0, 2, 1, 0, 2, 1])"
   ]
  },
  {
   "cell_type": "code",
   "execution_count": null,
   "metadata": {},
   "outputs": [],
   "source": []
  }
 ],
 "metadata": {
  "kernelspec": {
   "display_name": "Anaconda 3",
   "language": "python",
   "name": "python3"
  },
  "language_info": {
   "codemirror_mode": {
    "name": "ipython",
    "version": 3
   },
   "file_extension": ".py",
   "mimetype": "text/x-python",
   "name": "python",
   "nbconvert_exporter": "python",
   "pygments_lexer": "ipython3",
   "version": "3.7.3"
  }
 },
 "nbformat": 4,
 "nbformat_minor": 2
}
