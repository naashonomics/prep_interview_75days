{
  "nbformat": 4,
  "nbformat_minor": 0,
  "metadata": {
    "colab": {
      "name": "array_leetcode_easy.ipynb",
      "provenance": [],
      "collapsed_sections": [],
      "authorship_tag": "ABX9TyNWWiK5Ycyxe0BoKdzT5P0n",
      "include_colab_link": true
    },
    "kernelspec": {
      "name": "python3",
      "display_name": "Python 3"
    },
    "language_info": {
      "name": "python"
    }
  },
  "cells": [
    {
      "cell_type": "markdown",
      "metadata": {
        "id": "view-in-github",
        "colab_type": "text"
      },
      "source": [
        "<a href=\"https://colab.research.google.com/github/naashonomics/prep_interview_75days/blob/master/array_leetcode_easy.ipynb\" target=\"_parent\"><img src=\"https://colab.research.google.com/assets/colab-badge.svg\" alt=\"Open In Colab\"/></a>"
      ]
    },
    {
      "cell_type": "markdown",
      "metadata": {
        "id": "NyMcCT2su0BN"
      },
      "source": [
        "\n",
        "1672. Richest Customer Wealth\n",
        "\n",
        "Companies where it was asked: GOOGLE \n",
        "\n",
        "ou are given an m x n integer grid accounts where accounts[i][j] is the amount of money the i​​​​​​​​​​​th​​​​ customer has in the j​​​​​​​​​​​th​​​​ bank. Return the wealth that the richest customer has.\n",
        "\n",
        "A customer's wealth is the amount of money they have in all their bank accounts. The richest customer is the customer that has the maximum wealth.\n",
        "\n",
        " \n",
        "\n",
        "Example 1:\n",
        "\n",
        "Input: accounts = [[1,2,3],[3,2,1]]\n",
        "Output: 6\n",
        "Explanation:\n",
        "1st customer has wealth = 1 + 2 + 3 = 6\n",
        "2nd customer has wealth = 3 + 2 + 1 = 6\n",
        "Both customers are considered the richest with a wealth of 6 each, so return 6.\n",
        "Example 2:\n",
        "\n",
        "Input: accounts = [[1,5],[7,3],[3,5]]\n",
        "Output: 10\n",
        "Explanation: \n",
        "1st customer has wealth = 6\n",
        "2nd customer has wealth = 10 \n",
        "3rd customer has wealth = 8\n",
        "The 2nd customer is the richest with a wealth of 10.\n",
        "Example 3:\n",
        "\n",
        "Input: accounts = [[2,8,7],[7,1,3],[1,9,5]]\n",
        "Output: 17\n",
        " \n",
        "\n",
        "Constraints:\n",
        "\n",
        "m == accounts.length\n",
        "n == accounts[i].length\n",
        "1 <= m, n <= 50\n",
        "1 <= accounts[i][j] <= 100\n",
        "\n"
      ]
    },
    {
      "cell_type": "code",
      "metadata": {
        "id": "AYCBoFAYu9sK"
      },
      "source": [
        "\"\"\"\n",
        "Approach:\n",
        "\n",
        "For every person, add his wealth from all the banks ie. for every row, sum all the column values and store in totalWealth.\n",
        "If totalWealth is more than maxWealth, then update maxWealth.\n",
        "\"\"\"\n",
        "def maximumWealth(self, accounts: List[List[int]]) -> int:\n",
        "\tmaxWealth = 0\n",
        "\tfor i in range(len(accounts)):\n",
        "\t\ttotalWealth = sum(accounts[i])\n",
        "\t\tmaxWealth = max(maxWealth, totalWealth)\n",
        "\treturn maxWealth\n",
        "\n",
        "  \"\"\"\n",
        "  use higher order function map\n",
        "  return max(map(sum,accounts))\n",
        "\n",
        "  Use list comprehension\n",
        "  return max([sum(a) for a in accounts])\n",
        "\n",
        "  use tuple comprehension\n",
        "  return max(sum(a) for a in accounts\n",
        "\n",
        "  ans = []\n",
        "\tfor items in accounts:\n",
        "\t  ans.append(sum(items))          \n",
        "\treturn max(ans)\n",
        "\n",
        "  return max([sum(account) for account in accounts])\n",
        "  \"\"\""
      ],
      "execution_count": null,
      "outputs": []
    },
    {
      "cell_type": "markdown",
      "metadata": {
        "id": "V-Z65DJOyRO7"
      },
      "source": [
        ""
      ]
    }
  ]
}