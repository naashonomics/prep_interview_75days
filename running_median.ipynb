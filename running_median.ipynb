{
 "cells": [
  {
   "cell_type": "code",
   "execution_count": null,
   "metadata": {},
   "outputs": [],
   "source": [
    "\"\"\"\n",
    "Running MEdian \n",
    "Given a Stream of # compute median for each new element \n",
    "given \n",
    "l=[2,1,4,7,2,0,5] o=[2,1.5,2,3,2,2,2]\n",
    "\"\"\""
   ]
  },
  {
   "cell_type": "code",
   "execution_count": 2,
   "metadata": {},
   "outputs": [
    {
     "name": "stdout",
     "output_type": "stream",
     "text": [
      "2\n",
      "1.5\n",
      "2\n",
      "3.0\n",
      "2\n",
      "2.0\n",
      "2\n"
     ]
    }
   ],
   "source": [
    "import heapq\n",
    "\n",
    "def get_median(min_heap, max_heap):\n",
    "    if len(min_heap) > len(max_heap):\n",
    "        return min_heap[0]\n",
    "    elif len(min_heap) < len(max_heap):\n",
    "        return -max_heap[0]\n",
    "    else:\n",
    "        min_root = min_heap[0]\n",
    "        max_root = -max_heap[0]\n",
    "    return (min_root + max_root) / 2.0\n",
    "\n",
    "def add(num, min_heap, max_heap):\n",
    "    if len(min_heap) + len(max_heap) <= 1:\n",
    "        heapq.heappush(max_heap, -num)\n",
    "        return\n",
    "\n",
    "    median = get_median(min_heap, max_heap)\n",
    "    if num > median:\n",
    "        heapq.heappush(min_heap, num)\n",
    "    else:\n",
    "        heapq.heappush(max_heap, -num)\n",
    "\n",
    "def rebalance(min_heap, max_heap):\n",
    "    if len(min_heap) > len(max_heap) + 1:\n",
    "        root = heapq.heappop(min_heap)\n",
    "        heapq.heappush(max_heap, -root)\n",
    "    elif len(max_heap) > len(min_heap) + 1:\n",
    "        root = -heapq.heappop(max_heap)\n",
    "        heapq.heappush(min_heap, root)\n",
    "\n",
    "def print_median(min_heap, max_heap):\n",
    "    print(get_median(min_heap, max_heap))\n",
    "\n",
    "def running_median(stream):\n",
    "    min_heap = []\n",
    "    max_heap = []\n",
    "\n",
    "    for num in stream:\n",
    "        add(num, min_heap, max_heap)\n",
    "        rebalance(min_heap, max_heap)\n",
    "        print_median(min_heap, max_heap)\n",
    "\n",
    "running_median([2, 1, 4, 7, 2, 0, 5])"
   ]
  },
  {
   "cell_type": "code",
   "execution_count": null,
   "metadata": {},
   "outputs": [],
   "source": [
    "#idea\n",
    "\"\"\"\n",
    "1> BRUTE FORCE\n",
    "_Add_numer => O(1)\n",
    "_print_median => sort n log n\n",
    "TC: O (n2 logn n) SC : n\n",
    "\n",
    "2> INSERTION SORT\n",
    "_Add_numer => O(n) ( log n for insertion sort)\n",
    "_print_median => )(1)\n",
    "TC : O(n2) \n",
    "\n",
    "3> with heap\n",
    "\"\"\"\n"
   ]
  }
 ],
 "metadata": {
  "kernelspec": {
   "display_name": "Anaconda 3",
   "language": "python",
   "name": "python3"
  },
  "language_info": {
   "codemirror_mode": {
    "name": "ipython",
    "version": 3
   },
   "file_extension": ".py",
   "mimetype": "text/x-python",
   "name": "python",
   "nbconvert_exporter": "python",
   "pygments_lexer": "ipython3",
   "version": "3.7.3"
  }
 },
 "nbformat": 4,
 "nbformat_minor": 2
}
